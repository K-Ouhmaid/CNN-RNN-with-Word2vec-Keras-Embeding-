{
 "cells": [
  {
   "cell_type": "markdown",
   "metadata": {},
   "source": [
    "### CNN + RNN Models  by : Khalid OUHMAID"
   ]
  },
  {
   "cell_type": "code",
   "execution_count": 48,
   "metadata": {},
   "outputs": [],
   "source": [
    "import warnings  # ignore warning\n",
    "warnings.filterwarnings(\"ignore\")"
   ]
  },
  {
   "cell_type": "code",
   "execution_count": 49,
   "metadata": {},
   "outputs": [],
   "source": [
    "# matplot\n",
    "import matplotlib.pyplot as plt\n",
    "%matplotlib inline \n",
    "\n",
    "# Set matplotlib sizes\n",
    "plt.rc('font', size=20)\n",
    "plt.rc('axes', titlesize=20)\n",
    "plt.rc('axes', labelsize=15)\n",
    "plt.rc('xtick', labelsize=10)\n",
    "plt.rc('ytick', labelsize=10)\n",
    "plt.rc('legend', fontsize=15)\n",
    "plt.rc('figure', titlesize=20)"
   ]
  },
  {
   "cell_type": "code",
   "execution_count": 50,
   "metadata": {},
   "outputs": [],
   "source": [
    "\n",
    "import sklearn.metrics as metrics\n",
    "from sklearn.metrics import accuracy_score\n",
    "from sklearn.metrics import precision_score\n",
    "from sklearn.metrics import recall_score\n",
    "from sklearn.metrics import f1_score\n",
    "from sklearn.metrics import roc_auc_score\n",
    "from sklearn.metrics import confusion_matrix"
   ]
  },
  {
   "cell_type": "code",
   "execution_count": 51,
   "metadata": {},
   "outputs": [],
   "source": [
    "import pandas as pd\n",
    "from pandas import DataFrame\n",
    "import numpy as np\n",
    "from numpy import array\n",
    "import re\n",
    "import os\n",
    "\n",
    "from nltk.tokenize import RegexpTokenizer\n",
    "from string import punctuation\n",
    "from nltk.tokenize import sent_tokenize, word_tokenize \n",
    "\n",
    "import keras\n",
    "from keras import backend as K\n",
    "from keras.preprocessing.text import Tokenizer\n",
    "from keras.models import Sequential\n",
    "from keras.layers import Dense\n",
    "from keras.layers import Flatten\n",
    "from keras.layers.convolutional import Conv1D\n",
    "from keras.layers.convolutional import MaxPooling1D\n",
    "from keras.layers import GlobalAveragePooling1D\n",
    "from keras.layers import LSTM\n",
    "from keras.layers import GRU\n",
    "from keras.layers import Dropout\n",
    "from keras.layers.embeddings import Embedding\n",
    "from keras.preprocessing import sequence\n",
    "from keras.preprocessing.sequence import pad_sequences"
   ]
  },
  {
   "cell_type": "code",
   "execution_count": 52,
   "metadata": {},
   "outputs": [
    {
     "data": {
      "text/html": [
       "<div>\n",
       "<style scoped>\n",
       "    .dataframe tbody tr th:only-of-type {\n",
       "        vertical-align: middle;\n",
       "    }\n",
       "\n",
       "    .dataframe tbody tr th {\n",
       "        vertical-align: top;\n",
       "    }\n",
       "\n",
       "    .dataframe thead th {\n",
       "        text-align: right;\n",
       "    }\n",
       "</style>\n",
       "<table border=\"1\" class=\"dataframe\">\n",
       "  <thead>\n",
       "    <tr style=\"text-align: right;\">\n",
       "      <th></th>\n",
       "      <th>label</th>\n",
       "      <th>content</th>\n",
       "    </tr>\n",
       "  </thead>\n",
       "  <tbody>\n",
       "    <tr>\n",
       "      <th>0</th>\n",
       "      <td>1</td>\n",
       "      <td>Our most-broken and least-understood rules is ...</td>\n",
       "    </tr>\n",
       "    <tr>\n",
       "      <th>1</th>\n",
       "      <td>1</td>\n",
       "      <td>Perhaps what's worse than depression is not be...</td>\n",
       "    </tr>\n",
       "    <tr>\n",
       "      <th>2</th>\n",
       "      <td>1</td>\n",
       "      <td>A cop stopped me from killing myself last nigh...</td>\n",
       "    </tr>\n",
       "    <tr>\n",
       "      <th>3</th>\n",
       "      <td>1</td>\n",
       "      <td>Who else is just keeping themselves alive for ...</td>\n",
       "    </tr>\n",
       "    <tr>\n",
       "      <th>4</th>\n",
       "      <td>1</td>\n",
       "      <td>It doesn't get better. Fuck off with that shit...</td>\n",
       "    </tr>\n",
       "  </tbody>\n",
       "</table>\n",
       "</div>"
      ],
      "text/plain": [
       "   label                                            content\n",
       "0      1  Our most-broken and least-understood rules is ...\n",
       "1      1  Perhaps what's worse than depression is not be...\n",
       "2      1  A cop stopped me from killing myself last nigh...\n",
       "3      1  Who else is just keeping themselves alive for ...\n",
       "4      1  It doesn't get better. Fuck off with that shit..."
      ]
     },
     "execution_count": 52,
     "metadata": {},
     "output_type": "execute_result"
    }
   ],
   "source": [
    "# load the scrapped and labeled data\n",
    "df = pd.read_csv(\"data/data.csv\")\n",
    "\n",
    "df.head() "
   ]
  },
  {
   "cell_type": "markdown",
   "metadata": {},
   "source": [
    "## Text preprocessing"
   ]
  },
  {
   "cell_type": "code",
   "execution_count": 53,
   "metadata": {},
   "outputs": [],
   "source": [
    "def clean_text(document):\n",
    "    \n",
    "   \n",
    "    \n",
    "    \n",
    "    document = ' '.join([word.lower() for word in word_tokenize(document)]) # lowercase texts\n",
    "    tokens = word_tokenize(document) # tokenize the document\n",
    "    \n",
    "    for i in range(0,len(tokens)):\n",
    "        # remove whitespaces\n",
    "        tokens[i] = tokens[i].strip()\n",
    "        # remove html links\n",
    "        tokens[i] = re.sub(r'\\S*http\\S*', '', tokens[i]) # remove links with http\n",
    "        tokens[i] = re.sub(r'\\S*\\.org\\S*', '', tokens[i]) # remove links with .org\n",
    "        tokens[i] = re.sub(r'\\S*\\.com\\S*', '', tokens[i]) # remove links with .com\n",
    "        \n",
    "        # remove subreddit titles (e.g /r/food)\n",
    "        tokens[i] = re.sub(r'S*\\/r\\/\\S*', '' ,tokens[i]) \n",
    "        \n",
    "        # remove non-alphabet characters\n",
    "        tokens[i] = re.sub(\"[^a-zA-Z]+\", \"\", tokens[i])\n",
    "        \n",
    "        tokens[i] = tokens[i].strip() # remove whitespaces \n",
    "        \n",
    "        # remove all blanks from the list\n",
    "    while(\"\" in tokens): \n",
    "        tokens.remove(\"\") \n",
    "     \n",
    "    return tokens"
   ]
  },
  {
   "cell_type": "code",
   "execution_count": 54,
   "metadata": {},
   "outputs": [],
   "source": [
    "# call clean_text on df\n",
    "# for each row in df\n",
    "for i in range(0,len(df)):\n",
    "    # use clean_text on the document/text stored in the content column\n",
    "    clean = clean_text(df.loc[i,\"content\"])\n",
    "    # joining the tokens together by whitespaces\n",
    "    df.loc[i,\"clean_content\"] = ' '.join([token for token in clean])"
   ]
  },
  {
   "cell_type": "code",
   "execution_count": 55,
   "metadata": {},
   "outputs": [],
   "source": [
    "df = df.dropna() # remove null data due to some deleted comments\n",
    "df = df[df[\"clean_content\"] != ''] # remove blank comments\n",
    "df.to_csv('data/preprocessed_data.csv', index=False) # save the preprocessed data "
   ]
  },
  {
   "cell_type": "code",
   "execution_count": 56,
   "metadata": {},
   "outputs": [],
   "source": [
    "# select label and clean_content columns\n",
    "df = df[[\"label\",\"clean_content\"]] \n",
    "df.reset_index(drop=True,inplace=True) "
   ]
  },
  {
   "cell_type": "code",
   "execution_count": 57,
   "metadata": {},
   "outputs": [
    {
     "name": "stdout",
     "output_type": "stream",
     "text": [
      "The number of subjects with depression is: 2719\n",
      "The number of subjects without depression is: 2755\n"
     ]
    }
   ],
   "source": [
    "# print the number of subjects that with depression\n",
    "print(\"The number of subjects with depression is:\", df[df[\"label\"]==1].shape[0])\n",
    "# print the number of subjects that are not depression\n",
    "print(\"The number of subjects without depression is:\", df[df[\"label\"]==0].shape[0])"
   ]
  },
  {
   "cell_type": "markdown",
   "metadata": {},
   "source": [
    "# Word embedding"
   ]
  },
  {
   "cell_type": "markdown",
   "metadata": {},
   "source": [
    "## Creating a vocabulary"
   ]
  },
  {
   "cell_type": "code",
   "execution_count": 58,
   "metadata": {},
   "outputs": [],
   "source": [
    "from collections import Counter\n",
    "\n",
    "words = [] # create a list to store words in the data\n",
    "for i in range(0,len(df)):\n",
    "    tokens = df.loc[i,\"clean_content\"].split() \n",
    "    for token in tokens:\n",
    "        words.append(token) "
   ]
  },
  {
   "cell_type": "code",
   "execution_count": 59,
   "metadata": {},
   "outputs": [],
   "source": [
    "vocab = Counter(words) # list the words and count their occurence\n",
    "tokens = [k for k,c in vocab.items() if c >= 2] # remove words that appear only 1 time\n",
    "vocab = tokens "
   ]
  },
  {
   "cell_type": "code",
   "execution_count": 60,
   "metadata": {},
   "outputs": [
    {
     "data": {
      "text/plain": [
       "11685"
      ]
     },
     "execution_count": 60,
     "metadata": {},
     "output_type": "execute_result"
    }
   ],
   "source": [
    "# The vocabulary size is the total number of words in our vocabulary, plus one for unknown words\n",
    "vocab_size = len(set(vocab)) + 1\n",
    "vocab_size"
   ]
  },
  {
   "cell_type": "markdown",
   "metadata": {},
   "source": [
    "## Removing words that are not in the vocabulary"
   ]
  },
  {
   "cell_type": "code",
   "execution_count": 61,
   "metadata": {},
   "outputs": [],
   "source": [
    "for i in range(0,len(df)): # remove the words that are not in the vocab\n",
    "    tokens = df.loc[i,\"clean_content\"].split() # split words by whitespaces\n",
    "    \n",
    "    df.loc[i,\"clean_content\"] = ' '.join([token for token in tokens if token in vocab])"
   ]
  },
  {
   "cell_type": "markdown",
   "metadata": {},
   "source": [
    "## Splitting the training, validation and testing data"
   ]
  },
  {
   "cell_type": "code",
   "execution_count": 62,
   "metadata": {},
   "outputs": [],
   "source": [
    "from sklearn.model_selection import train_test_split\n",
    "\n",
    "# Divide the data into training (70%) and testing (30%)\n",
    "df_train_valid, df_test = train_test_split(df, train_size=0.7, random_state=42, stratify=df[\"label\"])\n",
    "\n",
    "# Divide the trainning data into training (70%) and validation (30%)\n",
    "df_train, df_valid = train_test_split(df_train_valid, train_size=0.7, random_state=42, stratify=df_train_valid[\"label\"])"
   ]
  },
  {
   "cell_type": "code",
   "execution_count": 63,
   "metadata": {},
   "outputs": [],
   "source": [
    "df_train.reset_index(drop=True,inplace=True) # reset index\n",
    "df_valid.reset_index(drop=True,inplace=True)\n",
    "df_test.reset_index(drop=True,inplace=True)"
   ]
  },
  {
   "cell_type": "code",
   "execution_count": 64,
   "metadata": {},
   "outputs": [
    {
     "data": {
      "text/plain": [
       "(2681, 2)"
      ]
     },
     "execution_count": 64,
     "metadata": {},
     "output_type": "execute_result"
    }
   ],
   "source": [
    "# print training data dimensions\n",
    "df_train.shape"
   ]
  },
  {
   "cell_type": "code",
   "execution_count": 65,
   "metadata": {},
   "outputs": [],
   "source": [
    "train_docs = [] # a list to store comments from the training set\n",
    "valid_docs = [] # a list to store comments from the validation set\n",
    "test_docs = [] # a list to store comments from the testing set\n",
    "\n",
    "for i in range(0,len(df_train)):\n",
    "    text = df_train.loc[i,\"clean_content\"] # selecting each comment in each row \n",
    "    train_docs.append(text)  # append each comment to a list of documents \n",
    "    \n",
    "for i in range(0,len(df_valid)):\n",
    "    text = df_valid.loc[i,\"clean_content\"]\n",
    "    valid_docs.append(text)\n",
    "    \n",
    "for i in range(0,len(df_test)):\n",
    "    text = df_test.loc[i,\"clean_content\"]\n",
    "    test_docs.append(text)"
   ]
  },
  {
   "cell_type": "code",
   "execution_count": 66,
   "metadata": {},
   "outputs": [],
   "source": [
    "docs = train_docs + valid_docs + test_docs"
   ]
  },
  {
   "cell_type": "code",
   "execution_count": 67,
   "metadata": {},
   "outputs": [
    {
     "data": {
      "text/plain": [
       "3415"
      ]
     },
     "execution_count": 67,
     "metadata": {},
     "output_type": "execute_result"
    }
   ],
   "source": [
    "max_length = max([len(document.split()) for document in docs])\n",
    "# print max_length\n",
    "max_length"
   ]
  },
  {
   "cell_type": "markdown",
   "metadata": {},
   "source": [
    "## Keras embedding layer"
   ]
  },
  {
   "cell_type": "code",
   "execution_count": 68,
   "metadata": {},
   "outputs": [],
   "source": [
    "# create the tokenizer\n",
    "tokenizer = Tokenizer()\n",
    "# fit the tokenizer on the documents\n",
    "tokenizer.fit_on_texts(docs)\n",
    "\n",
    "tokenizer_vocab = tokenizer.word_index"
   ]
  },
  {
   "cell_type": "code",
   "execution_count": 69,
   "metadata": {},
   "outputs": [],
   "source": [
    "def defineXY(df, docs):\n",
    "   \n",
    "    \n",
    "    # converting comments into numeric vectors using layer embedding\n",
    "    encoded_docs = tokenizer.texts_to_sequences(docs) \n",
    "    \n",
    "    # save each vectorized comment into X_label array\n",
    "   \n",
    "    X_label = pad_sequences(encoded_docs, maxlen=max_length, padding='pre') \n",
    "    \n",
    "    # saving the label for each comment into an array\n",
    "    df_label = df[\"label\"]\n",
    "    y_label = array([df_label[i] for i in range(0,len(df_label))]) # save target label into an array\n",
    "    \n",
    "    return X_label, y_label"
   ]
  },
  {
   "cell_type": "code",
   "execution_count": 70,
   "metadata": {},
   "outputs": [],
   "source": [
    "# call defineXY on the training, validation and testing data\n",
    "Xtrain, ytrain = defineXY(df_train, train_docs)\n",
    "Xvalid, yvalid = defineXY(df_valid, valid_docs)\n",
    "Xtest, ytest = defineXY(df_test, test_docs)"
   ]
  },
  {
   "cell_type": "markdown",
   "metadata": {},
   "source": [
    "### Train the Word2Vec model"
   ]
  },
  {
   "cell_type": "code",
   "execution_count": 71,
   "metadata": {},
   "outputs": [],
   "source": [
    "sentences = [] # create a list to store sentences of tokens\n",
    "for item in docs: \n",
    "    tokens = item.split() \n",
    "    sentences.append(tokens) # append the list of tokens in a sentence to sentences"
   ]
  },
  {
   "cell_type": "code",
   "execution_count": 72,
   "metadata": {},
   "outputs": [],
   "source": [
    "from gensim.models import Word2Vec\n",
    "# train the sentences with Word2Vec model\n",
    "\n",
    "# we only count words that appear at least 2 times\n",
    "model_word2vec = Word2Vec(sentences, window=5, workers=8, min_count=2)"
   ]
  },
  {
   "cell_type": "code",
   "execution_count": 73,
   "metadata": {},
   "outputs": [
    {
     "name": "stdout",
     "output_type": "stream",
     "text": [
      "Word2Vec(vocab=11684, vector_size=100, alpha=0.025)\n"
     ]
    }
   ],
   "source": [
    "print(model_word2vec) "
   ]
  },
  {
   "cell_type": "code",
   "execution_count": 74,
   "metadata": {},
   "outputs": [],
   "source": [
    "from os import listdir\n",
    "# save model\n",
    "filename = 'word2vec_embedding/embedding_word2vec.txt'\n",
    "model_word2vec.wv.save_word2vec_format(filename, binary=False)"
   ]
  },
  {
   "cell_type": "code",
   "execution_count": 75,
   "metadata": {},
   "outputs": [],
   "source": [
    "def load_embedding(filename):\n",
    "    \n",
    "   \n",
    "    \n",
    "    file = open(filename,'r')\n",
    "    lines = file.readlines()[1:]\n",
    "    file.close()\n",
    "    # create a map of words to vectors\n",
    "    embedding = dict()\n",
    "    for line in lines:\n",
    "        parts = line.split()\n",
    "      \n",
    "        embedding[parts[0]] = np.asarray(parts[1:], dtype='float32')\n",
    "    return embedding"
   ]
  },
  {
   "cell_type": "code",
   "execution_count": 76,
   "metadata": {},
   "outputs": [],
   "source": [
    "raw_embedding = load_embedding('word2vec_embedding/embedding_word2vec.txt')"
   ]
  },
  {
   "cell_type": "markdown",
   "metadata": {},
   "source": [
    "### Mapping the embedding vectors"
   ]
  },
  {
   "cell_type": "code",
   "execution_count": 77,
   "metadata": {},
   "outputs": [],
   "source": [
    "# create a weight matrix \n",
    "def get_weight_matrix(embedding, vocab_size):\n",
    "  \n",
    "    \n",
    "    # define weight matrix dimensions with all 0\n",
    "    weight_matrix = np.zeros((vocab_size, 100))\n",
    "    # step vocab, store vectors using the Tokenizer integer mapping\n",
    "    for word, i in tokenizer_vocab.items(): \n",
    "        if i > vocab_size:\n",
    "            continue\n",
    "        vector = embedding.get(word) # get the word in the embedding file\n",
    "        if vector is not None: # word not found will be returned zero\n",
    "            weight_matrix[i] = vector \n",
    "    return weight_matrix"
   ]
  },
  {
   "cell_type": "code",
   "execution_count": 78,
   "metadata": {},
   "outputs": [],
   "source": [
    "# get vectors in the right order\n",
    "embedding_vectors = get_weight_matrix(raw_embedding, vocab_size)"
   ]
  },
  {
   "cell_type": "markdown",
   "metadata": {},
   "source": [
    "# Building Neural Network Model"
   ]
  },
  {
   "cell_type": "code",
   "execution_count": 79,
   "metadata": {},
   "outputs": [],
   "source": [
    "from keras.callbacks import ModelCheckpoint, EarlyStopping, ReduceLROnPlateau\n",
    "\n",
    "model_checkpoint_cb_CNN_keras = ModelCheckpoint(   # for CNN using Keras API Tokenizer\n",
    "    filepath = \"../model/CNN_keras.h5\",\n",
    "    save_best_only=True)     \n",
    "\n",
    "\n",
    "\n",
    "\n",
    "early_stopping_cb = EarlyStopping(\n",
    "    patience=5,  # stopping after 5 epochs without improvement\n",
    "    restore_best_weights=True)\n",
    "\n",
    "reduce_lr_on_plateau_cb = ReduceLROnPlateau(\n",
    "    verbose = 1,\n",
    "    factor=0.1,  \n",
    "    patience=2)  # after 2 epochs without improvement in validation loss"
   ]
  },
  {
   "cell_type": "markdown",
   "metadata": {},
   "source": [
    "## CNN and Keras embedding layer"
   ]
  },
  {
   "cell_type": "code",
   "execution_count": 80,
   "metadata": {},
   "outputs": [
    {
     "name": "stdout",
     "output_type": "stream",
     "text": [
      "Model: \"sequential_3\"\n",
      "_________________________________________________________________\n",
      "Layer (type)                 Output Shape              Param #   \n",
      "=================================================================\n",
      "embedding_3 (Embedding)      (None, 3415, 100)         1168500   \n",
      "_________________________________________________________________\n",
      "conv1d_5 (Conv1D)            (None, 3415, 128)         102528    \n",
      "_________________________________________________________________\n",
      "global_average_pooling1d_3 ( (None, 128)               0         \n",
      "_________________________________________________________________\n",
      "flatten_3 (Flatten)          (None, 128)               0         \n",
      "_________________________________________________________________\n",
      "dense_6 (Dense)              (None, 10)                1290      \n",
      "_________________________________________________________________\n",
      "dense_7 (Dense)              (None, 1)                 11        \n",
      "=================================================================\n",
      "Total params: 1,272,329\n",
      "Trainable params: 1,272,329\n",
      "Non-trainable params: 0\n",
      "_________________________________________________________________\n"
     ]
    }
   ],
   "source": [
    "model = Sequential()\n",
    "# add the embedding layer\n",
    "model.add(Embedding(vocab_size, 100, input_length=max_length)) \n",
    "# add the convolutional layer\n",
    "model.add(Conv1D(filters=32, kernel_size=8, padding=\"same\", activation='relu')) # 32\n",
    "# add the GAP layer\n",
    "model.add(GlobalAveragePooling1D())\n",
    "model.add(Flatten())\n",
    "\n",
    "# add a fully connected layer with the activation function as relu\n",
    "model.add(Dense(10, activation='relu'))\n",
    "\n",
    "model.add(Dense(1, activation='sigmoid'))\n",
    "\n",
    "# print the model summary\n",
    "model.summary()"
   ]
  },
  {
   "cell_type": "code",
   "execution_count": 81,
   "metadata": {},
   "outputs": [
    {
     "name": "stdout",
     "output_type": "stream",
     "text": [
      "Epoch 1/100\n",
      "84/84 [==============================] - 58s 686ms/step - loss: 0.6500 - accuracy: 0.6371 - val_loss: 0.5563 - val_accuracy: 0.7670\n",
      "Epoch 2/100\n",
      "84/84 [==============================] - 57s 681ms/step - loss: 0.4914 - accuracy: 0.7811 - val_loss: 0.4290 - val_accuracy: 0.8296\n",
      "Epoch 3/100\n",
      "84/84 [==============================] - 53s 631ms/step - loss: 0.3565 - accuracy: 0.8594 - val_loss: 0.3209 - val_accuracy: 0.8678\n",
      "Epoch 4/100\n",
      "84/84 [==============================] - 53s 633ms/step - loss: 0.2391 - accuracy: 0.9112 - val_loss: 0.2514 - val_accuracy: 0.9096\n",
      "Epoch 5/100\n",
      "84/84 [==============================] - 52s 625ms/step - loss: 0.1673 - accuracy: 0.9459 - val_loss: 0.2179 - val_accuracy: 0.9243\n",
      "Epoch 6/100\n",
      "84/84 [==============================] - 56s 672ms/step - loss: 0.1204 - accuracy: 0.9620 - val_loss: 0.1861 - val_accuracy: 0.9357\n",
      "Epoch 7/100\n",
      "84/84 [==============================] - 59s 706ms/step - loss: 0.0860 - accuracy: 0.9772 - val_loss: 0.1806 - val_accuracy: 0.9409\n",
      "Epoch 8/100\n",
      "84/84 [==============================] - 54s 648ms/step - loss: 0.0619 - accuracy: 0.9840 - val_loss: 0.1893 - val_accuracy: 0.9374\n",
      "Epoch 9/100\n",
      "84/84 [==============================] - ETA: 0s - loss: 0.0457 - accuracy: 0.9884\n",
      "Epoch 00009: ReduceLROnPlateau reducing learning rate to 0.00010000000474974513.\n",
      "84/84 [==============================] - 53s 637ms/step - loss: 0.0457 - accuracy: 0.9884 - val_loss: 0.1826 - val_accuracy: 0.9383\n",
      "Epoch 10/100\n",
      "84/84 [==============================] - 53s 636ms/step - loss: 0.0351 - accuracy: 0.9937 - val_loss: 0.1838 - val_accuracy: 0.9400\n",
      "Epoch 11/100\n",
      "84/84 [==============================] - ETA: 0s - loss: 0.0340 - accuracy: 0.9937\n",
      "Epoch 00011: ReduceLROnPlateau reducing learning rate to 1.0000000474974514e-05.\n",
      "84/84 [==============================] - 52s 616ms/step - loss: 0.0340 - accuracy: 0.9937 - val_loss: 0.1842 - val_accuracy: 0.9391\n",
      "Epoch 12/100\n",
      "84/84 [==============================] - 52s 620ms/step - loss: 0.0332 - accuracy: 0.9937 - val_loss: 0.1844 - val_accuracy: 0.9391\n"
     ]
    }
   ],
   "source": [
    "# compile network\n",
    "model.compile(loss='binary_crossentropy', optimizer=keras.optimizers.Adam(learning_rate=10 ** -3), metrics=['accuracy'])\n",
    "# fit network\n",
    "history_CNN_keras = model.fit(Xtrain, ytrain, epochs=100, validation_data=(Xvalid, yvalid), \n",
    "            callbacks=[model_checkpoint_cb_CNN_keras, early_stopping_cb, reduce_lr_on_plateau_cb])"
   ]
  },
  {
   "cell_type": "markdown",
   "metadata": {},
   "source": [
    "### Model evaluation (CNN and Keras)\n"
   ]
  },
  {
   "cell_type": "code",
   "execution_count": 82,
   "metadata": {
    "scrolled": true
   },
   "outputs": [
    {
     "name": "stdout",
     "output_type": "stream",
     "text": [
      "loss: 0.1927167773246765\n",
      "accuracy: 0.9360924959182739\n"
     ]
    }
   ],
   "source": [
    "model = keras.models.load_model(\"model/CNN_keras.h5\")\n",
    "\n",
    "# evaluating the model\n",
    "loss, accuracy = model.evaluate(Xtest, ytest, verbose = 0)\n",
    "\n",
    "print(\"loss:\", loss)\n",
    "print(\"accuracy:\", accuracy)"
   ]
  },
  {
   "cell_type": "code",
   "execution_count": 83,
   "metadata": {},
   "outputs": [
    {
     "data": {
      "image/png": "[encoded data removed]",
      "text/plain": [
       "<Figure size 576x360 with 1 Axes>"
      ]
     },
     "metadata": {
      "needs_background": "light"
     },
     "output_type": "display_data"
    }
   ],
   "source": [
    "pd.DataFrame(history_CNN_keras.history).plot(figsize=(8, 5))\n",
    "\n",
    "# Save and show the figure\n",
    "plt.tight_layout()\n",
    "plt.title('Learning Curve')\n",
    "plt.xlabel('epochs')\n",
    "\n",
    "plt.show()"
   ]
  },
  {
   "cell_type": "markdown",
   "metadata": {},
   "source": [
    "## CNN and Word2Vec"
   ]
  },
  {
   "cell_type": "code",
   "execution_count": 43,
   "metadata": {},
   "outputs": [],
   "source": [
    "# create the pre-trained embedding layer by using the embedding_vectors as the weights\n",
    "# trainable is set as False to freeze the pre-trained layer\n",
    "embedding_layer = Embedding(vocab_size, 100, embeddings_initializer=keras.initializers.Constant(embedding_vectors), input_length=max_length, trainable=False)"
   ]
  },
  {
   "cell_type": "code",
   "execution_count": 42,
   "metadata": {},
   "outputs": [
    {
     "name": "stdout",
     "output_type": "stream",
     "text": [
      "Model: \"sequential_1\"\n",
      "_________________________________________________________________\n",
      "Layer (type)                 Output Shape              Param #   \n",
      "=================================================================\n",
      "embedding_1 (Embedding)      (None, 3415, 100)         1168500   \n",
      "_________________________________________________________________\n",
      "conv1d_1 (Conv1D)            (None, 3415, 128)         64128     \n",
      "_________________________________________________________________\n",
      "global_average_pooling1d_1 ( (None, 128)               0         \n",
      "_________________________________________________________________\n",
      "dense_2 (Dense)              (None, 10)                1290      \n",
      "_________________________________________________________________\n",
      "dense_3 (Dense)              (None, 1)                 11        \n",
      "=================================================================\n",
      "Total params: 1,233,929\n",
      "Trainable params: 65,429\n",
      "Non-trainable params: 1,168,500\n",
      "_________________________________________________________________\n"
     ]
    }
   ],
   "source": [
    "model = Sequential()\n",
    "# add the embedding layer\n",
    "model.add(embedding_layer) \n",
    "# add the convolutional layer\n",
    "model.add(Conv1D(filters=128, kernel_size=5, padding=\"same\", activation='relu'))\n",
    "# add the GAP layer\n",
    "model.add(GlobalAveragePooling1D())\n",
    "# add a fully connected layer with the activation function as relu\n",
    "model.add(Dense(10, activation='relu'))\n",
    "\n",
    "model.add(Dense(1, activation='sigmoid'))\n",
    "\n",
    "# print the model summary\n",
    "model.summary()"
   ]
  },
  {
   "cell_type": "code",
   "execution_count": 45,
   "metadata": {},
   "outputs": [],
   "source": [
    "model_checkpoint_cb_CNN_word2vec = ModelCheckpoint(   # for CNN using word2vec\n",
    "    filepath = \"model/CNN_word2vec.h5\",\n",
    "    save_best_only=True)   "
   ]
  },
  {
   "cell_type": "code",
   "execution_count": 46,
   "metadata": {},
   "outputs": [
    {
     "name": "stdout",
     "output_type": "stream",
     "text": [
      "Epoch 1/100\n",
      "84/84 [==============================] - 28s 334ms/step - loss: 0.5824 - accuracy: 0.7262 - val_loss: 0.4857 - val_accuracy: 0.8191\n",
      "Epoch 2/100\n",
      "84/84 [==============================] - 29s 340ms/step - loss: 0.4402 - accuracy: 0.8333 - val_loss: 0.4321 - val_accuracy: 0.8478\n",
      "Epoch 3/100\n",
      "84/84 [==============================] - 28s 336ms/step - loss: 0.4091 - accuracy: 0.8407 - val_loss: 0.3974 - val_accuracy: 0.8522\n",
      "Epoch 4/100\n",
      "84/84 [==============================] - 30s 352ms/step - loss: 0.3889 - accuracy: 0.8530 - val_loss: 0.3867 - val_accuracy: 0.8461\n",
      "Epoch 5/100\n",
      "84/84 [==============================] - 33s 387ms/step - loss: 0.3690 - accuracy: 0.8549 - val_loss: 0.3694 - val_accuracy: 0.8713\n",
      "Epoch 6/100\n",
      "84/84 [==============================] - 38s 458ms/step - loss: 0.3611 - accuracy: 0.8639 - val_loss: 0.3533 - val_accuracy: 0.8678\n",
      "Epoch 7/100\n",
      "84/84 [==============================] - 37s 437ms/step - loss: 0.3434 - accuracy: 0.8691 - val_loss: 0.3549 - val_accuracy: 0.8765\n",
      "Epoch 8/100\n",
      "84/84 [==============================] - 36s 423ms/step - loss: 0.3316 - accuracy: 0.8717 - val_loss: 0.3318 - val_accuracy: 0.8783\n",
      "Epoch 9/100\n",
      "84/84 [==============================] - 35s 415ms/step - loss: 0.3217 - accuracy: 0.8769 - val_loss: 0.3209 - val_accuracy: 0.8765\n",
      "Epoch 10/100\n",
      "84/84 [==============================] - 36s 431ms/step - loss: 0.3101 - accuracy: 0.8765 - val_loss: 0.3130 - val_accuracy: 0.8835\n",
      "Epoch 11/100\n",
      "84/84 [==============================] - 36s 428ms/step - loss: 0.2995 - accuracy: 0.8836 - val_loss: 0.3046 - val_accuracy: 0.8843\n",
      "Epoch 12/100\n",
      "84/84 [==============================] - 36s 429ms/step - loss: 0.2883 - accuracy: 0.8874 - val_loss: 0.2972 - val_accuracy: 0.8861\n",
      "Epoch 13/100\n",
      "84/84 [==============================] - 37s 440ms/step - loss: 0.2824 - accuracy: 0.8855 - val_loss: 0.2919 - val_accuracy: 0.8870\n",
      "Epoch 14/100\n",
      "84/84 [==============================] - 37s 444ms/step - loss: 0.2822 - accuracy: 0.8900 - val_loss: 0.2858 - val_accuracy: 0.8861\n",
      "Epoch 15/100\n",
      "84/84 [==============================] - 35s 416ms/step - loss: 0.2778 - accuracy: 0.8881 - val_loss: 0.2869 - val_accuracy: 0.8878\n",
      "Epoch 16/100\n",
      "84/84 [==============================] - 37s 446ms/step - loss: 0.2715 - accuracy: 0.8941 - val_loss: 0.2815 - val_accuracy: 0.8870\n",
      "Epoch 17/100\n",
      "84/84 [==============================] - 40s 478ms/step - loss: 0.2688 - accuracy: 0.8948 - val_loss: 0.2805 - val_accuracy: 0.8870\n",
      "Epoch 18/100\n",
      "84/84 [==============================] - 40s 474ms/step - loss: 0.2662 - accuracy: 0.8967 - val_loss: 0.2778 - val_accuracy: 0.8896\n",
      "Epoch 19/100\n",
      "84/84 [==============================] - 38s 458ms/step - loss: 0.2605 - accuracy: 0.8941 - val_loss: 0.2745 - val_accuracy: 0.8913\n",
      "Epoch 20/100\n",
      "84/84 [==============================] - 37s 444ms/step - loss: 0.2575 - accuracy: 0.8967 - val_loss: 0.2766 - val_accuracy: 0.8913\n",
      "Epoch 21/100\n",
      "84/84 [==============================] - ETA: 0s - loss: 0.2561 - accuracy: 0.9015\n",
      "Epoch 00021: ReduceLROnPlateau reducing learning rate to 0.00010000000474974513.\n",
      "84/84 [==============================] - 35s 420ms/step - loss: 0.2561 - accuracy: 0.9015 - val_loss: 0.2756 - val_accuracy: 0.8887\n",
      "Epoch 22/100\n",
      "84/84 [==============================] - 39s 465ms/step - loss: 0.2515 - accuracy: 0.9049 - val_loss: 0.2713 - val_accuracy: 0.8896\n",
      "Epoch 23/100\n",
      "84/84 [==============================] - 40s 478ms/step - loss: 0.2506 - accuracy: 0.9045 - val_loss: 0.2707 - val_accuracy: 0.8896\n",
      "Epoch 24/100\n",
      "84/84 [==============================] - 41s 483ms/step - loss: 0.2498 - accuracy: 0.9068 - val_loss: 0.2701 - val_accuracy: 0.8913\n",
      "Epoch 25/100\n",
      "84/84 [==============================] - 40s 471ms/step - loss: 0.2495 - accuracy: 0.9041 - val_loss: 0.2700 - val_accuracy: 0.8922\n",
      "Epoch 26/100\n",
      "84/84 [==============================] - 40s 482ms/step - loss: 0.2491 - accuracy: 0.9064 - val_loss: 0.2695 - val_accuracy: 0.8930\n",
      "Epoch 27/100\n",
      "84/84 [==============================] - 38s 455ms/step - loss: 0.2493 - accuracy: 0.9053 - val_loss: 0.2692 - val_accuracy: 0.8930\n",
      "Epoch 28/100\n",
      "84/84 [==============================] - 40s 473ms/step - loss: 0.2488 - accuracy: 0.9045 - val_loss: 0.2694 - val_accuracy: 0.8913\n",
      "Epoch 29/100\n",
      "84/84 [==============================] - 40s 473ms/step - loss: 0.2489 - accuracy: 0.9053 - val_loss: 0.2690 - val_accuracy: 0.8922\n",
      "Epoch 30/100\n",
      "84/84 [==============================] - 38s 455ms/step - loss: 0.2485 - accuracy: 0.9064 - val_loss: 0.2687 - val_accuracy: 0.8922\n",
      "Epoch 31/100\n",
      "84/84 [==============================] - 42s 505ms/step - loss: 0.2483 - accuracy: 0.9068 - val_loss: 0.2685 - val_accuracy: 0.8939\n",
      "Epoch 32/100\n",
      "84/84 [==============================] - 39s 460ms/step - loss: 0.2476 - accuracy: 0.9064 - val_loss: 0.2684 - val_accuracy: 0.8913\n",
      "Epoch 33/100\n",
      "84/84 [==============================] - 39s 467ms/step - loss: 0.2486 - accuracy: 0.9019 - val_loss: 0.2681 - val_accuracy: 0.8913\n",
      "Epoch 34/100\n",
      "84/84 [==============================] - 39s 466ms/step - loss: 0.2477 - accuracy: 0.9064 - val_loss: 0.2679 - val_accuracy: 0.8930\n",
      "Epoch 35/100\n",
      "84/84 [==============================] - 41s 483ms/step - loss: 0.2473 - accuracy: 0.9068 - val_loss: 0.2676 - val_accuracy: 0.8930\n",
      "Epoch 36/100\n",
      "84/84 [==============================] - 38s 458ms/step - loss: 0.2473 - accuracy: 0.9053 - val_loss: 0.2676 - val_accuracy: 0.8939\n",
      "Epoch 37/100\n",
      "84/84 [==============================] - 43s 512ms/step - loss: 0.2469 - accuracy: 0.9068 - val_loss: 0.2674 - val_accuracy: 0.8922\n",
      "Epoch 38/100\n",
      "84/84 [==============================] - 37s 441ms/step - loss: 0.2466 - accuracy: 0.9068 - val_loss: 0.2676 - val_accuracy: 0.8904\n",
      "Epoch 39/100\n",
      "84/84 [==============================] - 42s 504ms/step - loss: 0.2465 - accuracy: 0.9049 - val_loss: 0.2672 - val_accuracy: 0.8939\n",
      "Epoch 40/100\n",
      "84/84 [==============================] - 3243s 39s/step - loss: 0.2459 - accuracy: 0.9071 - val_loss: 0.2672 - val_accuracy: 0.8904\n",
      "Epoch 41/100\n",
      "84/84 [==============================] - 45s 535ms/step - loss: 0.2465 - accuracy: 0.9041 - val_loss: 0.2668 - val_accuracy: 0.8939\n",
      "Epoch 42/100\n",
      "84/84 [==============================] - 49s 580ms/step - loss: 0.2458 - accuracy: 0.9056 - val_loss: 0.2667 - val_accuracy: 0.8913\n",
      "Epoch 43/100\n",
      "84/84 [==============================] - 42s 501ms/step - loss: 0.2456 - accuracy: 0.9049 - val_loss: 0.2665 - val_accuracy: 0.8913\n",
      "Epoch 44/100\n",
      "84/84 [==============================] - 42s 497ms/step - loss: 0.2457 - accuracy: 0.9056 - val_loss: 0.2664 - val_accuracy: 0.8922\n",
      "Epoch 45/100\n",
      "84/84 [==============================] - 42s 499ms/step - loss: 0.2453 - accuracy: 0.9056 - val_loss: 0.2663 - val_accuracy: 0.8930\n",
      "Epoch 46/100\n",
      "84/84 [==============================] - 42s 503ms/step - loss: 0.2453 - accuracy: 0.9071 - val_loss: 0.2661 - val_accuracy: 0.8913\n",
      "Epoch 47/100\n",
      "84/84 [==============================] - 45s 530ms/step - loss: 0.2449 - accuracy: 0.9075 - val_loss: 0.2661 - val_accuracy: 0.8913\n",
      "Epoch 48/100\n",
      "84/84 [==============================] - 40s 481ms/step - loss: 0.2453 - accuracy: 0.9060 - val_loss: 0.2658 - val_accuracy: 0.8913\n",
      "Epoch 49/100\n",
      "84/84 [==============================] - 41s 483ms/step - loss: 0.2445 - accuracy: 0.9053 - val_loss: 0.2657 - val_accuracy: 0.8922\n",
      "Epoch 50/100\n",
      "84/84 [==============================] - 40s 472ms/step - loss: 0.2444 - accuracy: 0.9075 - val_loss: 0.2656 - val_accuracy: 0.8922\n",
      "Epoch 51/100\n",
      "84/84 [==============================] - 41s 485ms/step - loss: 0.2442 - accuracy: 0.9064 - val_loss: 0.2656 - val_accuracy: 0.8930\n",
      "Epoch 52/100\n",
      "84/84 [==============================] - 41s 484ms/step - loss: 0.2437 - accuracy: 0.9075 - val_loss: 0.2652 - val_accuracy: 0.8913\n",
      "Epoch 53/100\n",
      "84/84 [==============================] - 39s 459ms/step - loss: 0.2438 - accuracy: 0.9045 - val_loss: 0.2659 - val_accuracy: 0.8957\n",
      "Epoch 54/100\n",
      "84/84 [==============================] - ETA: 0s - loss: 0.2431 - accuracy: 0.9068\n",
      "Epoch 00054: ReduceLROnPlateau reducing learning rate to 1.0000000474974514e-05.\n",
      "84/84 [==============================] - 40s 482ms/step - loss: 0.2431 - accuracy: 0.9068 - val_loss: 0.2651 - val_accuracy: 0.8913\n",
      "Epoch 55/100\n",
      "84/84 [==============================] - 41s 482ms/step - loss: 0.2427 - accuracy: 0.9053 - val_loss: 0.2651 - val_accuracy: 0.8913\n",
      "Epoch 56/100\n",
      "84/84 [==============================] - 40s 480ms/step - loss: 0.2426 - accuracy: 0.9068 - val_loss: 0.2650 - val_accuracy: 0.8904\n",
      "Epoch 57/100\n",
      "84/84 [==============================] - 40s 477ms/step - loss: 0.2425 - accuracy: 0.9079 - val_loss: 0.2650 - val_accuracy: 0.8904\n",
      "Epoch 58/100\n",
      "84/84 [==============================] - 43s 508ms/step - loss: 0.2425 - accuracy: 0.9079 - val_loss: 0.2650 - val_accuracy: 0.8913\n",
      "Epoch 59/100\n",
      "84/84 [==============================] - ETA: 0s - loss: 0.2425 - accuracy: 0.9079\n",
      "Epoch 00059: ReduceLROnPlateau reducing learning rate to 1.0000000656873453e-06.\n",
      "84/84 [==============================] - 42s 497ms/step - loss: 0.2425 - accuracy: 0.9079 - val_loss: 0.2649 - val_accuracy: 0.8913\n",
      "Epoch 60/100\n",
      "84/84 [==============================] - 40s 481ms/step - loss: 0.2424 - accuracy: 0.9082 - val_loss: 0.2649 - val_accuracy: 0.8913\n",
      "Epoch 61/100\n",
      "84/84 [==============================] - ETA: 0s - loss: 0.2424 - accuracy: 0.9082\n",
      "Epoch 00061: ReduceLROnPlateau reducing learning rate to 1.0000001111620805e-07.\n",
      "84/84 [==============================] - 41s 486ms/step - loss: 0.2424 - accuracy: 0.9082 - val_loss: 0.2649 - val_accuracy: 0.8913\n",
      "Epoch 62/100\n",
      "84/84 [==============================] - 40s 478ms/step - loss: 0.2424 - accuracy: 0.9082 - val_loss: 0.2649 - val_accuracy: 0.8913\n",
      "Epoch 63/100\n",
      "84/84 [==============================] - ETA: 0s - loss: 0.2424 - accuracy: 0.9082\n",
      "Epoch 00063: ReduceLROnPlateau reducing learning rate to 1.000000082740371e-08.\n",
      "84/84 [==============================] - 40s 480ms/step - loss: 0.2424 - accuracy: 0.9082 - val_loss: 0.2649 - val_accuracy: 0.8913\n",
      "Epoch 64/100\n",
      "84/84 [==============================] - 38s 454ms/step - loss: 0.2424 - accuracy: 0.9082 - val_loss: 0.2649 - val_accuracy: 0.8913\n",
      "Epoch 65/100\n",
      "84/84 [==============================] - ETA: 0s - loss: 0.2424 - accuracy: 0.9082\n",
      "Epoch 00065: ReduceLROnPlateau reducing learning rate to 1.000000082740371e-09.\n",
      "84/84 [==============================] - 47s 556ms/step - loss: 0.2424 - accuracy: 0.9082 - val_loss: 0.2649 - val_accuracy: 0.8913\n",
      "Epoch 66/100\n",
      "84/84 [==============================] - 44s 528ms/step - loss: 0.2424 - accuracy: 0.9082 - val_loss: 0.2649 - val_accuracy: 0.8913\n",
      "Epoch 67/100\n",
      "84/84 [==============================] - ETA: 0s - loss: 0.2424 - accuracy: 0.9082\n",
      "Epoch 00067: ReduceLROnPlateau reducing learning rate to 1.000000082740371e-10.\n",
      "84/84 [==============================] - 43s 511ms/step - loss: 0.2424 - accuracy: 0.9082 - val_loss: 0.2649 - val_accuracy: 0.8913\n",
      "Epoch 68/100\n",
      "84/84 [==============================] - 42s 501ms/step - loss: 0.2424 - accuracy: 0.9082 - val_loss: 0.2649 - val_accuracy: 0.8913\n",
      "Epoch 69/100\n",
      "84/84 [==============================] - ETA: 0s - loss: 0.2424 - accuracy: 0.9082\n",
      "Epoch 00069: ReduceLROnPlateau reducing learning rate to 1.000000082740371e-11.\n",
      "84/84 [==============================] - 39s 463ms/step - loss: 0.2424 - accuracy: 0.9082 - val_loss: 0.2649 - val_accuracy: 0.8913\n",
      "Epoch 70/100\n",
      "84/84 [==============================] - 38s 453ms/step - loss: 0.2424 - accuracy: 0.9082 - val_loss: 0.2649 - val_accuracy: 0.8913\n"
     ]
    }
   ],
   "source": [
    "# compile network\n",
    "model.compile(loss='binary_crossentropy', optimizer=keras.optimizers.Adam(learning_rate=10 ** -3), metrics=['accuracy'])\n",
    "# fit network\n",
    "history_CNN_word2vec = model.fit(Xtrain, ytrain, epochs=100, validation_data=(Xvalid, yvalid),\n",
    "            callbacks=[model_checkpoint_cb_CNN_word2vec, early_stopping_cb, reduce_lr_on_plateau_cb])"
   ]
  },
  {
   "cell_type": "code",
   "execution_count": 47,
   "metadata": {},
   "outputs": [
    {
     "name": "stdout",
     "output_type": "stream",
     "text": [
      "loss: 0.26462045311927795\n",
      "accuracy: 0.8989652991294861\n"
     ]
    }
   ],
   "source": [
    "# Load the model\n",
    "model = keras.models.load_model(\"model/CNN_word2vec.h5\")\n",
    "\n",
    "# evaluating the model\n",
    "loss, accuracy = model.evaluate(Xtest, ytest, verbose = 0)\n",
    "\n",
    "# print loss and accuracy\n",
    "print(\"loss:\", loss)\n",
    "print(\"accuracy:\", accuracy)"
   ]
  },
  {
   "cell_type": "markdown",
   "metadata": {},
   "source": [
    "## RNN and Keras embedding layer"
   ]
  },
  {
   "cell_type": "code",
   "execution_count": 35,
   "metadata": {},
   "outputs": [
    {
     "name": "stdout",
     "output_type": "stream",
     "text": [
      "Model: \"sequential\"\n",
      "_________________________________________________________________\n",
      "Layer (type)                 Output Shape              Param #   \n",
      "=================================================================\n",
      "embedding (Embedding)        (None, 3415, 100)         1168500   \n",
      "_________________________________________________________________\n",
      "lstm (LSTM)                  (None, 100)               80400     \n",
      "_________________________________________________________________\n",
      "dropout (Dropout)            (None, 100)               0         \n",
      "_________________________________________________________________\n",
      "dense (Dense)                (None, 1)                 101       \n",
      "=================================================================\n",
      "Total params: 1,249,001\n",
      "Trainable params: 1,249,001\n",
      "Non-trainable params: 0\n",
      "_________________________________________________________________\n"
     ]
    }
   ],
   "source": [
    "# define model\n",
    "# create a squential\n",
    "model = Sequential()\n",
    "# add the embedding layer\n",
    "model.add(Embedding(vocab_size, 100, input_length=max_length))\n",
    "# add the LSTM layer\n",
    "model.add(LSTM(100))\n",
    "# add drop out to prevent overfitting\n",
    "model.add(Dropout(0.2))\n",
    "# add the output layer\n",
    "model.add(Dense(1, activation='sigmoid'))\n",
    "\n",
    "# print model summary\n",
    "model.summary()"
   ]
  },
  {
   "cell_type": "markdown",
   "metadata": {},
   "source": [
    "### Compiling and training the model (RNN and Keras)"
   ]
  },
  {
   "cell_type": "code",
   "execution_count": 37,
   "metadata": {},
   "outputs": [],
   "source": [
    "# ModelCheckpoint callback\n",
    "  \n",
    "\n",
    "model_checkpoint_cb_RNN_keras = ModelCheckpoint(  # for RNN using Keras API Tokenizer\n",
    "    filepath = \"../model/RNN_keras.h5\",   \n",
    "    save_best_only=True)\n",
    "   \n",
    "\n",
    "model_checkpoint_cb_RNN_word2vec = ModelCheckpoint(  # for RNN using word2vec\n",
    "    filepath = \"../model/RNN_word2vec.h5\",   \n",
    "    save_best_only=True)"
   ]
  },
  {
   "cell_type": "code",
   "execution_count": 38,
   "metadata": {},
   "outputs": [
    {
     "name": "stdout",
     "output_type": "stream",
     "text": [
      "Epoch 1/100\n",
      "84/84 [==============================] - 345s 4s/step - loss: 0.5189 - accuracy: 0.7285 - val_loss: 0.2969 - val_accuracy: 0.8922\n",
      "Epoch 2/100\n",
      "84/84 [==============================] - 354s 4s/step - loss: 0.2036 - accuracy: 0.9276 - val_loss: 0.2739 - val_accuracy: 0.8896\n",
      "Epoch 3/100\n",
      "84/84 [==============================] - 361s 4s/step - loss: 0.0995 - accuracy: 0.9713 - val_loss: 0.2290 - val_accuracy: 0.9183\n",
      "Epoch 4/100\n",
      "84/84 [==============================] - 359s 4s/step - loss: 0.1862 - accuracy: 0.9407 - val_loss: 0.5712 - val_accuracy: 0.7061\n",
      "Epoch 5/100\n",
      "84/84 [==============================] - ETA: 0s - loss: 0.2091 - accuracy: 0.9209\n",
      "Epoch 00005: ReduceLROnPlateau reducing learning rate to 0.00010000000474974513.\n",
      "84/84 [==============================] - 375s 4s/step - loss: 0.2091 - accuracy: 0.9209 - val_loss: 0.3113 - val_accuracy: 0.8817\n",
      "Epoch 6/100\n",
      "84/84 [==============================] - 396s 5s/step - loss: 0.0456 - accuracy: 0.9896 - val_loss: 0.2372 - val_accuracy: 0.9191\n",
      "Epoch 7/100\n",
      "84/84 [==============================] - ETA: 0s - loss: 0.0279 - accuracy: 0.9940\n",
      "Epoch 00007: ReduceLROnPlateau reducing learning rate to 1.0000000474974514e-05.\n",
      "84/84 [==============================] - 635s 8s/step - loss: 0.0279 - accuracy: 0.9940 - val_loss: 0.2403 - val_accuracy: 0.9191\n",
      "Epoch 8/100\n",
      "84/84 [==============================] - 355s 4s/step - loss: 0.0229 - accuracy: 0.9959 - val_loss: 0.2389 - val_accuracy: 0.9226\n"
     ]
    }
   ],
   "source": [
    "model.compile(loss='binary_crossentropy', optimizer=keras.optimizers.Adam(learning_rate=10 ** -3), metrics=['accuracy'])\n",
    "history_RNN_keras = model.fit(Xtrain, ytrain, validation_data=(Xvalid, yvalid), epochs=100, \n",
    "                        callbacks=[model_checkpoint_cb_RNN_keras, early_stopping_cb, reduce_lr_on_plateau_cb])"
   ]
  },
  {
   "cell_type": "code",
   "execution_count": 39,
   "metadata": {},
   "outputs": [
    {
     "data": {
      "image/png": "[encoded data removed]",
      "text/plain": [
       "<Figure size 576x360 with 1 Axes>"
      ]
     },
     "metadata": {
      "needs_background": "light"
     },
     "output_type": "display_data"
    }
   ],
   "source": [
    "pd.DataFrame(history_RNN_keras.history).plot(figsize=(8, 5))\n",
    "\n",
    "# Save and show the figure\n",
    "plt.tight_layout()\n",
    "plt.title('Learning Curve')\n",
    "plt.xlabel('epochs')\n",
    "\n",
    "plt.show()"
   ]
  },
  {
   "cell_type": "markdown",
   "metadata": {},
   "source": [
    "### Model evaluation (RNN and Keras)"
   ]
  },
  {
   "cell_type": "code",
   "execution_count": 40,
   "metadata": {},
   "outputs": [
    {
     "name": "stdout",
     "output_type": "stream",
     "text": [
      "loss: 0.2635047733783722\n",
      "accuracy: 0.923919677734375\n"
     ]
    }
   ],
   "source": [
    "# Load the model\n",
    "model = keras.models.load_model(\"model/RNN_keras.h5\")\n",
    "\n",
    "# evaluating the model\n",
    "loss, accuracy = model.evaluate(Xtest, ytest, verbose = 0)\n",
    "\n",
    "# print loss and accuracy\n",
    "print(\"loss:\", loss)\n",
    "print(\"accuracy:\", accuracy)"
   ]
  },
  {
   "cell_type": "markdown",
   "metadata": {},
   "source": [
    "## RNN and Word2Vec"
   ]
  },
  {
   "cell_type": "code",
   "execution_count": 44,
   "metadata": {
    "scrolled": true
   },
   "outputs": [
    {
     "name": "stdout",
     "output_type": "stream",
     "text": [
      "Model: \"sequential_2\"\n",
      "_________________________________________________________________\n",
      "Layer (type)                 Output Shape              Param #   \n",
      "=================================================================\n",
      "embedding_1 (Embedding)      (None, 3415, 100)         1168500   \n",
      "_________________________________________________________________\n",
      "lstm_1 (LSTM)                (None, 100)               80400     \n",
      "_________________________________________________________________\n",
      "dropout_1 (Dropout)          (None, 100)               0         \n",
      "_________________________________________________________________\n",
      "dense_1 (Dense)              (None, 1)                 101       \n",
      "=================================================================\n",
      "Total params: 1,249,001\n",
      "Trainable params: 80,501\n",
      "Non-trainable params: 1,168,500\n",
      "_________________________________________________________________\n"
     ]
    }
   ],
   "source": [
    "# define model\n",
    "# create a squential\n",
    "model = Sequential()\n",
    "# add the embedding layer\n",
    "model.add(embedding_layer) \n",
    "# add the LSTM layer\n",
    "model.add(LSTM(100))\n",
    "model.add(Dropout(0.2))\n",
    "\n",
    "\n",
    "\n",
    "\n",
    "\n",
    "\n",
    "\n",
    "\n",
    "# add the output layer\n",
    "model.add(Dense(1, activation='sigmoid'))\n",
    "\n",
    "# print model summary\n",
    "model.summary()"
   ]
  },
  {
   "cell_type": "code",
   "execution_count": null,
   "metadata": {},
   "outputs": [],
   "source": []
  }
 ],
 "metadata": {
  "kernelspec": {
   "display_name": "Python 3",
   "language": "python",
   "name": "python3"
  },
  "language_info": {
   "codemirror_mode": {
    "name": "ipython",
    "version": 3
   },
   "file_extension": ".py",
   "mimetype": "text/x-python",
   "name": "python",
   "nbconvert_exporter": "python",
   "pygments_lexer": "ipython3",
   "version": "3.8.5"
  }
 },
 "nbformat": 4,
 "nbformat_minor": 5
}
